{
 "cells": [
  {
   "cell_type": "code",
   "execution_count": 2,
   "metadata": {},
   "outputs": [
    {
     "name": "stderr",
     "output_type": "stream",
     "text": [
      "[nltk_data] Downloading package wordnet to\n",
      "[nltk_data]     C:\\Users\\user\\AppData\\Roaming\\nltk_data...\n",
      "[nltk_data]   Unzipping corpora\\wordnet.zip.\n"
     ]
    },
    {
     "data": {
      "text/plain": [
       "True"
      ]
     },
     "execution_count": 2,
     "metadata": {},
     "output_type": "execute_result"
    }
   ],
   "source": [
    "import nltk\n",
    "nltk.download('wordnet')"
   ]
  },
  {
   "cell_type": "code",
   "execution_count": 57,
   "metadata": {},
   "outputs": [
    {
     "data": {
      "text/plain": [
       "[Synset('flower.n.01'),\n",
       " Synset('flower.n.02'),\n",
       " Synset('flower.n.03'),\n",
       " Synset('bloom.v.01')]"
      ]
     },
     "execution_count": 57,
     "metadata": {},
     "output_type": "execute_result"
    }
   ],
   "source": [
    "from nltk.corpus import wordnet as wn   #Import wordnet from the NLTK\n",
    "synset = wn.synsets(\"Flower\")\n",
    "synset"
   ]
  },
  {
   "cell_type": "code",
   "execution_count": 58,
   "metadata": {},
   "outputs": [
    {
     "name": "stdout",
     "output_type": "stream",
     "text": [
      "flower.n.01\n",
      "flower\n",
      "a plant cultivated for its blooms or blossoms\n",
      "[]\n"
     ]
    }
   ],
   "source": [
    "print(synset[0].name())\n",
    "print(synset[0].lemmas()[0].name())\n",
    "print(synset[0].definition())\n",
    "print(str(synset[0].examples()))"
   ]
  },
  {
   "cell_type": "code",
   "execution_count": 162,
   "metadata": {},
   "outputs": [
    {
     "name": "stdout",
     "output_type": "stream",
     "text": [
      "11669335\n"
     ]
    },
    {
     "data": {
      "text/plain": [
       "'11669335-n'"
      ]
     },
     "execution_count": 162,
     "metadata": {},
     "output_type": "execute_result"
    }
   ],
   "source": [
    "ss = wordnet.synset(synset[1].name())\n",
    "print(ss.offset())\n",
    "'{}-{}'.format(str(ss.offset()).zfill(8), ss.pos())"
   ]
  },
  {
   "cell_type": "code",
   "execution_count": 62,
   "metadata": {},
   "outputs": [
    {
     "data": {
      "text/plain": [
       "Synset('flower.n.01')"
      ]
     },
     "execution_count": 62,
     "metadata": {},
     "output_type": "execute_result"
    }
   ],
   "source": [
    "wordnet.of2ss('11669921-n')"
   ]
  },
  {
   "cell_type": "code",
   "execution_count": 200,
   "metadata": {},
   "outputs": [],
   "source": [
    "from nltk.corpus import wordnet as wn   #Import wordnet from the NLTK\n",
    "def search_word(word):\n",
    "    synset = wn.synsets(word)\n",
    "    num = []\n",
    "    df = []\n",
    "    result = []\n",
    "    \n",
    "    for i in range(0, len(wn.synsets(word))):\n",
    "        df.append(synset[i].definition()) # find the definition of the word\n",
    "        num.append('{}-{}'.format(str(wn.synset(synset[i].name()).offset()).zfill(8), wn.synset(synset[i].name()).pos())) \n",
    "        # Find the id num of the synset. It has to be 8-digit with a pos tag.\n",
    "    \n",
    "    return { id_: def_ for id_, def_ in zip(num, df) }"
   ]
  },
  {
   "cell_type": "code",
   "execution_count": 201,
   "metadata": {
    "scrolled": true
   },
   "outputs": [
    {
     "data": {
      "text/plain": [
       "{'11669921-n': 'a plant cultivated for its blooms or blossoms',\n",
       " '11669335-n': 'reproductive organ of angiosperm plants especially one having showy or colorful parts',\n",
       " '15295045-n': 'the period of greatest prosperity or productivity',\n",
       " '00294245-v': 'produce or yield flowers'}"
      ]
     },
     "execution_count": 201,
     "metadata": {},
     "output_type": "execute_result"
    }
   ],
   "source": [
    "search_word(\"Flower\")"
   ]
  }
 ],
 "metadata": {
  "kernelspec": {
   "display_name": "Python 3",
   "language": "python",
   "name": "python3"
  },
  "language_info": {
   "codemirror_mode": {
    "name": "ipython",
    "version": 3
   },
   "file_extension": ".py",
   "mimetype": "text/x-python",
   "name": "python",
   "nbconvert_exporter": "python",
   "pygments_lexer": "ipython3",
   "version": "3.7.4"
  }
 },
 "nbformat": 4,
 "nbformat_minor": 2
}
